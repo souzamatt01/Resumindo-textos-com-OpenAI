{
  "nbformat": 4,
  "nbformat_minor": 0,
  "metadata": {
    "colab": {
      "provenance": [],
      "authorship_tag": "ABX9TyNXZoB7oj2YbjC8cBT0YiJq",
      "include_colab_link": true
    },
    "kernelspec": {
      "name": "python3",
      "display_name": "Python 3"
    },
    "language_info": {
      "name": "python"
    }
  },
  "cells": [
    {
      "cell_type": "markdown",
      "metadata": {
        "id": "view-in-github",
        "colab_type": "text"
      },
      "source": [
        "<a href=\"https://colab.research.google.com/github/souzamatt01/Resumindo-textos-com-OpenAI/blob/main/Resumo_da_Apostila_Hist%C3%B3ria_(Teste_OpenAI).ipynb\" target=\"_parent\"><img src=\"https://colab.research.google.com/assets/colab-badge.svg\" alt=\"Open In Colab\"/></a>"
      ]
    },
    {
      "cell_type": "code",
      "execution_count": null,
      "metadata": {
        "id": "4o_pi-gAA4qq"
      },
      "outputs": [],
      "source": [
        "#Instalando as bibliotecas:\n",
        "!pip install openai==0.28 PyPDF2"
      ]
    },
    {
      "cell_type": "code",
      "source": [
        "#Extraindo o texto do arquivo PDF:\n",
        "def extract_text_from_pdf(pdf_path):\n",
        "    with open(pdf_path, 'rb') as file:\n",
        "        reader = PyPDF2.PdfReader(file)\n",
        "        text_by_page = []\n",
        "        for page_num in range(len(reader.pages)):\n",
        "            page = reader.pages[page_num]\n",
        "            text_by_page.append(page.extract_text())\n",
        "        return text_by_page\n",
        "\n",
        "pdf_path = input(\"Insira o caminho para o arquivo\")"
      ],
      "metadata": {
        "id": "N32E3XGPB0OQ"
      },
      "execution_count": null,
      "outputs": []
    },
    {
      "cell_type": "code",
      "source": [
        "#Aplicando a função pra resumir o texto:\n",
        "import openai\n",
        "\n",
        "openai.api_key = 'Sua key do OpenAI'\n",
        "\n",
        "def summarize_text(text):\n",
        "        response = openai.ChatCompletion.create(\n",
        "        model=\"gpt-4\",\n",
        "        messages=[{\"role\": \"user\", \"content\": f\"Resuma o seguinte texto:\\n\\n{text}\"}],\n",
        "        max_tokens=2000,  # Ajuste o número de tokens conforme necessário\n",
        "        temperature=0.1\n",
        "    )\n",
        "        return response.choices[0].message.content.strip()"
      ],
      "metadata": {
        "id": "-lF7xvzjCAus"
      },
      "execution_count": null,
      "outputs": []
    },
    {
      "cell_type": "code",
      "source": [
        "#Gerando o resumo e finalizando quando achar a palavra chave (Seção de Exercícios):\n",
        "def summarize_pdf_until_keyword(pdf_path, keyword):\n",
        "    text_by_page = extract_text_from_pdf(pdf_path)\n",
        "    summaries = []\n",
        "    keyword_found = False\n",
        "\n",
        "    # Resumir até encontrar a palavra-chave no texto\n",
        "    for i, text in enumerate(text_by_page):\n",
        "        if keyword.lower() in text.lower():\n",
        "            keyword_found = True\n",
        "            break\n",
        "\n",
        "        summary = summarize_text(text)\n",
        "        summaries.append(f\"Página {i + 1}:\\n{summary}\\n\")\n",
        "\n",
        "    if keyword_found:\n",
        "        summaries.append(\"Fim do resumo.\")\n",
        "\n",
        "    return \"\\n\".join(summaries)\n",
        "\n",
        "# Caminho do arquivo PDF\n",
        "pdf_path = input(\"Insira o caminho para o arquivo\")\n",
        "\n",
        "# Palavra-chave que interrompe o resumo\n",
        "keyword = '(ENEM)'\n",
        "\n",
        "# Gerar resumo até encontrar a palavra-chave\n",
        "summary = summarize_pdf_until_keyword(pdf_path, keyword)"
      ],
      "metadata": {
        "id": "0dG804ZgCPW6"
      },
      "execution_count": null,
      "outputs": []
    },
    {
      "cell_type": "code",
      "source": [
        "# Salvar o resumo em um arquivo de texto\n",
        "with open('Resumo da Apostila.txt', 'w') as f:\n",
        "    f.write(summary)"
      ],
      "metadata": {
        "id": "qGCc5ixCErX_"
      },
      "execution_count": null,
      "outputs": []
    }
  ]
}